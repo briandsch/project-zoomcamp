{
 "cells": [
  {
   "cell_type": "code",
   "execution_count": 1,
   "metadata": {},
   "outputs": [],
   "source": [
    "import pandas as pd\n",
    "import pandas_gbq"
   ]
  },
  {
   "cell_type": "code",
   "execution_count": 2,
   "metadata": {},
   "outputs": [
    {
     "name": "stdout",
     "output_type": "stream",
     "text": [
      "MKPRU: Price_USD has been added to the Dataframe.\n",
      "ETRAV: Transaction_Volume has been added to the Dataframe.\n",
      "ETRVU: Transaction_Volume_USD has been added to the Dataframe.\n",
      "HRATE: Hash_Rate has been added to the Dataframe.\n",
      "DIFF: Difficulty has been added to the Dataframe.\n",
      "MKTCP: Market_Cap has been added to the Dataframe.\n",
      "NTRAN: Transaction_Count has been added to the Dataframe.\n",
      "NTRAT: Transaction_Count_Accumulated has been added to the Dataframe.\n",
      "TOTBC: Total_Mined has been added to the Dataframe.\n",
      "TOUTV: Output_Volume has been added to the Dataframe.\n",
      "TRFEE: TRFees_BTC has been added to the Dataframe.\n",
      "TRFUS: TRFees_USD has been added to the Dataframe.\n",
      "CPTRA: Cost_Per_Transaction has been added to the Dataframe.\n",
      "CPTRV: Cost_Percentage_of_TRVolume has been added to the Dataframe.\n",
      "AVBLS: Block_Size_Average has been added to the Dataframe.\n",
      "NTRBL: Transactions_Per_Block has been added to the Dataframe.\n",
      "ATRCT: Confirmation_Time_Minutes has been added to the Dataframe.\n",
      "NADDU: Unique_Addresses_Used has been added to the Dataframe.\n",
      "MIREV: Miners_Revenue has been added to the Dataframe.\n"
     ]
    }
   ],
   "source": [
    "from daily_update import bitcoin"
   ]
  },
  {
   "cell_type": "code",
   "execution_count": 3,
   "metadata": {},
   "outputs": [
    {
     "data": {
      "text/html": [
       "<div>\n",
       "<style scoped>\n",
       "    .dataframe tbody tr th:only-of-type {\n",
       "        vertical-align: middle;\n",
       "    }\n",
       "\n",
       "    .dataframe tbody tr th {\n",
       "        vertical-align: top;\n",
       "    }\n",
       "\n",
       "    .dataframe thead th {\n",
       "        text-align: right;\n",
       "    }\n",
       "</style>\n",
       "<table border=\"1\" class=\"dataframe\">\n",
       "  <thead>\n",
       "    <tr style=\"text-align: right;\">\n",
       "      <th></th>\n",
       "      <th>Price_USD</th>\n",
       "      <th>Transaction_Volume</th>\n",
       "      <th>Transaction_Volume_USD</th>\n",
       "      <th>Hash_Rate</th>\n",
       "      <th>Difficulty</th>\n",
       "      <th>Market_Cap</th>\n",
       "      <th>Transaction_Count</th>\n",
       "      <th>Transaction_Count_Accumulated</th>\n",
       "      <th>Total_Mined</th>\n",
       "      <th>Output_Volume</th>\n",
       "      <th>TRFees_BTC</th>\n",
       "      <th>TRFees_USD</th>\n",
       "      <th>Cost_Per_Transaction</th>\n",
       "      <th>Cost_Percentage_of_TRVolume</th>\n",
       "      <th>Block_Size_Average</th>\n",
       "      <th>Transactions_Per_Block</th>\n",
       "      <th>Confirmation_Time_Minutes</th>\n",
       "      <th>Unique_Addresses_Used</th>\n",
       "      <th>Miners_Revenue</th>\n",
       "    </tr>\n",
       "    <tr>\n",
       "      <th>Date</th>\n",
       "      <th></th>\n",
       "      <th></th>\n",
       "      <th></th>\n",
       "      <th></th>\n",
       "      <th></th>\n",
       "      <th></th>\n",
       "      <th></th>\n",
       "      <th></th>\n",
       "      <th></th>\n",
       "      <th></th>\n",
       "      <th></th>\n",
       "      <th></th>\n",
       "      <th></th>\n",
       "      <th></th>\n",
       "      <th></th>\n",
       "      <th></th>\n",
       "      <th></th>\n",
       "      <th></th>\n",
       "      <th></th>\n",
       "    </tr>\n",
       "  </thead>\n",
       "  <tbody>\n",
       "    <tr>\n",
       "      <th>2023-06-07</th>\n",
       "      <td>27243.64</td>\n",
       "      <td>107941.326097</td>\n",
       "      <td>2.879720e+09</td>\n",
       "      <td>3.438278e+08</td>\n",
       "      <td>5.123434e+13</td>\n",
       "      <td>5.100292e+11</td>\n",
       "      <td>433781.0</td>\n",
       "      <td>848834517.0</td>\n",
       "      <td>19395693.75</td>\n",
       "      <td>1.020737e+06</td>\n",
       "      <td>97.602338</td>\n",
       "      <td>2.607709e+06</td>\n",
       "      <td>57.912899</td>\n",
       "      <td>0.87236</td>\n",
       "      <td>1.62168</td>\n",
       "      <td>3213.192593</td>\n",
       "      <td>13.5</td>\n",
       "      <td>734954.0</td>\n",
       "      <td>2.512152e+07</td>\n",
       "    </tr>\n",
       "  </tbody>\n",
       "</table>\n",
       "</div>"
      ],
      "text/plain": [
       "            Price_USD  Transaction_Volume  Transaction_Volume_USD   \n",
       "Date                                                                \n",
       "2023-06-07   27243.64       107941.326097            2.879720e+09  \\\n",
       "\n",
       "               Hash_Rate    Difficulty    Market_Cap  Transaction_Count   \n",
       "Date                                                                      \n",
       "2023-06-07  3.438278e+08  5.123434e+13  5.100292e+11           433781.0  \\\n",
       "\n",
       "            Transaction_Count_Accumulated  Total_Mined  Output_Volume   \n",
       "Date                                                                    \n",
       "2023-06-07                    848834517.0  19395693.75   1.020737e+06  \\\n",
       "\n",
       "            TRFees_BTC    TRFees_USD  Cost_Per_Transaction   \n",
       "Date                                                         \n",
       "2023-06-07   97.602338  2.607709e+06             57.912899  \\\n",
       "\n",
       "            Cost_Percentage_of_TRVolume  Block_Size_Average   \n",
       "Date                                                          \n",
       "2023-06-07                      0.87236             1.62168  \\\n",
       "\n",
       "            Transactions_Per_Block  Confirmation_Time_Minutes   \n",
       "Date                                                            \n",
       "2023-06-07             3213.192593                       13.5  \\\n",
       "\n",
       "            Unique_Addresses_Used  Miners_Revenue  \n",
       "Date                                               \n",
       "2023-06-07               734954.0    2.512152e+07  "
      ]
     },
     "execution_count": 3,
     "metadata": {},
     "output_type": "execute_result"
    }
   ],
   "source": [
    "bitcoin"
   ]
  },
  {
   "cell_type": "code",
   "execution_count": 4,
   "metadata": {},
   "outputs": [],
   "source": [
    "bitcoin = bitcoin.reset_index()\n",
    "schema = [{\"name\": \"Date\", \"type\": \"DATE\"}]"
   ]
  },
  {
   "cell_type": "code",
   "execution_count": 5,
   "metadata": {},
   "outputs": [],
   "source": [
    "bitcoin = bitcoin.convert_dtypes()"
   ]
  },
  {
   "cell_type": "code",
   "execution_count": 6,
   "metadata": {},
   "outputs": [
    {
     "data": {
      "text/plain": [
       "Date                             datetime64[ns]\n",
       "Price_USD                               Float64\n",
       "Transaction_Volume                      Float64\n",
       "Transaction_Volume_USD                  Float64\n",
       "Hash_Rate                               Float64\n",
       "Difficulty                                Int64\n",
       "Market_Cap                                Int64\n",
       "Transaction_Count                         Int64\n",
       "Transaction_Count_Accumulated             Int64\n",
       "Total_Mined                             Float64\n",
       "Output_Volume                           Float64\n",
       "TRFees_BTC                              Float64\n",
       "TRFees_USD                              Float64\n",
       "Cost_Per_Transaction                    Float64\n",
       "Cost_Percentage_of_TRVolume             Float64\n",
       "Block_Size_Average                      Float64\n",
       "Transactions_Per_Block                  Float64\n",
       "Confirmation_Time_Minutes               Float64\n",
       "Unique_Addresses_Used                     Int64\n",
       "Miners_Revenue                          Float64\n",
       "dtype: object"
      ]
     },
     "execution_count": 6,
     "metadata": {},
     "output_type": "execute_result"
    }
   ],
   "source": [
    "bitcoin.dtypes"
   ]
  },
  {
   "cell_type": "code",
   "execution_count": 7,
   "metadata": {},
   "outputs": [],
   "source": [
    "pandas_gbq.to_gbq(bitcoin, \"bitcoin_data.bitcoin_table\", \"project-zoomcamp\", if_exists=\"append\", table_schema=schema)"
   ]
  }
 ],
 "metadata": {
  "kernelspec": {
   "display_name": "Python 3 (ipykernel)",
   "language": "python",
   "name": "python3"
  },
  "language_info": {
   "codemirror_mode": {
    "name": "ipython",
    "version": 3
   },
   "file_extension": ".py",
   "mimetype": "text/x-python",
   "name": "python",
   "nbconvert_exporter": "python",
   "pygments_lexer": "ipython3",
   "version": "3.10.6"
  },
  "orig_nbformat": 4
 },
 "nbformat": 4,
 "nbformat_minor": 2
}
