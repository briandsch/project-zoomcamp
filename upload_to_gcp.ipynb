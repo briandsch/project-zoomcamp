{
 "cells": [
  {
   "cell_type": "code",
   "execution_count": 1,
   "metadata": {},
   "outputs": [],
   "source": [
    "import pandas as pd"
   ]
  },
  {
   "cell_type": "code",
   "execution_count": 2,
   "metadata": {},
   "outputs": [],
   "source": [
    "import pandas_gbq"
   ]
  },
  {
   "cell_type": "code",
   "execution_count": 3,
   "metadata": {},
   "outputs": [],
   "source": [
    "from google.cloud import storage"
   ]
  },
  {
   "cell_type": "code",
   "execution_count": 4,
   "metadata": {},
   "outputs": [
    {
     "name": "stdout",
     "output_type": "stream",
     "text": [
      "MKPRU: Price_USD has been added to the Dataframe.\n",
      "ETRAV: Transaction_Volume has been added to the Dataframe.\n",
      "ETRVU: Transaction_Volume_USD has been added to the Dataframe.\n",
      "HRATE: Hash_Rate has been added to the Dataframe.\n",
      "DIFF: Difficulty has been added to the Dataframe.\n",
      "MKTCP: Market_Cap has been added to the Dataframe.\n",
      "NTRAN: Transaction_Count has been added to the Dataframe.\n",
      "NTRAT: Transaction_Count_Accumulated has been added to the Dataframe.\n",
      "TOTBC: Total_Mined has been added to the Dataframe.\n",
      "TOUTV: Output_Volume has been added to the Dataframe.\n",
      "TRFEE: TRFees_BTC has been added to the Dataframe.\n",
      "TRFUS: TRFees_USD has been added to the Dataframe.\n",
      "CPTRA: Cost_Per_Transaction has been added to the Dataframe.\n",
      "CPTRV: Cost_Percentage_of_TRVolume has been added to the Dataframe.\n",
      "AVBLS: Block_Size_Average has been added to the Dataframe.\n",
      "NTRBL: Transactions_Per_Block has been added to the Dataframe.\n",
      "ATRCT: Confirmation_Time_Minutes has been added to the Dataframe.\n",
      "NADDU: Unique_Addresses_Used has been added to the Dataframe.\n",
      "MIREV: Miners_Revenue has been added to the Dataframe.\n"
     ]
    }
   ],
   "source": [
    "from extraction import bitcoin"
   ]
  },
  {
   "cell_type": "code",
   "execution_count": null,
   "metadata": {},
   "outputs": [],
   "source": [
    "bitcoin"
   ]
  },
  {
   "cell_type": "code",
   "execution_count": 6,
   "metadata": {},
   "outputs": [],
   "source": [
    "bitcoin = bitcoin.reset_index()\n",
    "schema = [{\"name\": \"Date\", \"type\": \"DATE\"}]"
   ]
  },
  {
   "cell_type": "code",
   "execution_count": 7,
   "metadata": {},
   "outputs": [],
   "source": [
    "bitcoin = bitcoin.convert_dtypes()"
   ]
  },
  {
   "cell_type": "code",
   "execution_count": 8,
   "metadata": {},
   "outputs": [
    {
     "data": {
      "text/plain": [
       "Date                             datetime64[ns]\n",
       "Price_USD                               Float64\n",
       "Transaction_Volume                      Float64\n",
       "Transaction_Volume_USD                  Float64\n",
       "Hash_Rate                               Float64\n",
       "Difficulty                              Float64\n",
       "Market_Cap                              Float64\n",
       "Transaction_Count                         Int64\n",
       "Transaction_Count_Accumulated             Int64\n",
       "Total_Mined                             Float64\n",
       "Output_Volume                           Float64\n",
       "TRFees_BTC                              Float64\n",
       "TRFees_USD                              Float64\n",
       "Cost_Per_Transaction                    Float64\n",
       "Cost_Percentage_of_TRVolume             Float64\n",
       "Block_Size_Average                      Float64\n",
       "Transactions_Per_Block                  Float64\n",
       "Confirmation_Time_Minutes               Float64\n",
       "Unique_Addresses_Used                     Int64\n",
       "Miners_Revenue                          Float64\n",
       "dtype: object"
      ]
     },
     "execution_count": 8,
     "metadata": {},
     "output_type": "execute_result"
    }
   ],
   "source": [
    "bitcoin.dtypes"
   ]
  },
  {
   "cell_type": "code",
   "execution_count": 129,
   "metadata": {},
   "outputs": [],
   "source": [
    "pandas_gbq.to_gbq(bitcoin, \"bitcoin_data.bitcoin_table\", \"project-zoomcamp\", if_exists=\"replace\", table_schema=schema)"
   ]
  }
 ],
 "metadata": {
  "kernelspec": {
   "display_name": "Python 3 (ipykernel)",
   "language": "python",
   "name": "python3"
  },
  "orig_nbformat": 4
 },
 "nbformat": 4,
 "nbformat_minor": 2
}
