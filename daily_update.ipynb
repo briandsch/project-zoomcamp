{
 "cells": [
  {
   "cell_type": "code",
   "execution_count": 1,
   "metadata": {},
   "outputs": [],
   "source": [
    "import nasdaqdatalink\n",
    "import pandas as pd\n",
    "import functools as ft"
   ]
  },
  {
   "cell_type": "code",
   "execution_count": 5,
   "metadata": {},
   "outputs": [],
   "source": [
    "from datetime import date, timedelta"
   ]
  },
  {
   "cell_type": "code",
   "execution_count": 14,
   "metadata": {},
   "outputs": [],
   "source": [
    "start_date = date.today() - timedelta(days=1)"
   ]
  },
  {
   "cell_type": "code",
   "execution_count": 15,
   "metadata": {},
   "outputs": [],
   "source": [
    "start_date = start_date.strftime(\"%Y-%m-%d\")"
   ]
  },
  {
   "cell_type": "code",
   "execution_count": 16,
   "metadata": {},
   "outputs": [
    {
     "data": {
      "text/plain": [
       "'2023-06-05'"
      ]
     },
     "execution_count": 16,
     "metadata": {},
     "output_type": "execute_result"
    }
   ],
   "source": [
    "start_date"
   ]
  },
  {
   "cell_type": "code",
   "execution_count": 17,
   "metadata": {},
   "outputs": [
    {
     "name": "stdout",
     "output_type": "stream",
     "text": [
      "MKPRU: Price_USD has been added to the Dataframe.\n"
     ]
    }
   ],
   "source": [
    "bitcoin = nasdaqdatalink.get('BCHAIN/MKPRU', start_date=start_date)\n",
    "bitcoin.columns=[\"Price_USD\"]\n",
    "print(\"MKPRU: Price_USD has been added to the Dataframe.\")"
   ]
  },
  {
   "cell_type": "code",
   "execution_count": 18,
   "metadata": {},
   "outputs": [],
   "source": [
    "merging_columns = {\n",
    "\"ETRAV\": \"Transaction_Volume\",\n",
    "\"ETRVU\": \"Transaction_Volume_USD\",\n",
    "\"HRATE\": \"Hash_Rate\",\n",
    "\"DIFF\": \"Difficulty\",\n",
    "\"MKTCP\": \"Market_Cap\",\n",
    "\"NTRAN\": \"Transaction_Count\",\n",
    "\"NTRAT\": \"Transaction_Count_Accumulated\",\n",
    "\"TOTBC\": \"Total_Mined\",\n",
    "\"TOUTV\": \"Output_Volume\",\n",
    "\"TRFEE\": \"TRFees_BTC\",\n",
    "\"TRFUS\": \"TRFees_USD\",\n",
    "\"CPTRA\": \"Cost_Per_Transaction\",\n",
    "\"CPTRV\": \"Cost_Percentage_of_TRVolume\",\n",
    "\"AVBLS\": \"Block_Size_Average\",\n",
    "\"NTRBL\": \"Transactions_Per_Block\",\n",
    "\"ATRCT\": \"Confirmation_Time_Minutes\",\n",
    "\"NADDU\": \"Unique_Addresses_Used\",\n",
    "\"MIREV\": \"Miners_Revenue\"\n",
    "}"
   ]
  },
  {
   "cell_type": "code",
   "execution_count": 20,
   "metadata": {},
   "outputs": [
    {
     "name": "stdout",
     "output_type": "stream",
     "text": [
      "ETRAV: Transaction_Volume has been added to the Dataframe.\n",
      "ETRVU: Transaction_Volume_USD has been added to the Dataframe.\n",
      "HRATE: Hash_Rate has been added to the Dataframe.\n",
      "DIFF: Difficulty has been added to the Dataframe.\n",
      "MKTCP: Market_Cap has been added to the Dataframe.\n",
      "NTRAN: Transaction_Count has been added to the Dataframe.\n",
      "NTRAT: Transaction_Count_Accumulated has been added to the Dataframe.\n",
      "TOTBC: Total_Mined has been added to the Dataframe.\n",
      "TOUTV: Output_Volume has been added to the Dataframe.\n",
      "TRFEE: TRFees_BTC has been added to the Dataframe.\n",
      "TRFUS: TRFees_USD has been added to the Dataframe.\n",
      "CPTRA: Cost_Per_Transaction has been added to the Dataframe.\n",
      "CPTRV: Cost_Percentage_of_TRVolume has been added to the Dataframe.\n",
      "AVBLS: Block_Size_Average has been added to the Dataframe.\n",
      "NTRBL: Transactions_Per_Block has been added to the Dataframe.\n",
      "ATRCT: Confirmation_Time_Minutes has been added to the Dataframe.\n",
      "NADDU: Unique_Addresses_Used has been added to the Dataframe.\n",
      "MIREV: Miners_Revenue has been added to the Dataframe.\n"
     ]
    }
   ],
   "source": [
    "for code, name in merging_columns.items():\n",
    "    new_column = nasdaqdatalink.get(f'BCHAIN/{code}', start_date=start_date)\n",
    "    new_column.columns=[f\"{name}\"]\n",
    "    bitcoin = bitcoin.merge(new_column, on=\"Date\")\n",
    "    print(f\"{code}: {name} has been added to the Dataframe.\")\n"
   ]
  },
  {
   "cell_type": "code",
   "execution_count": 21,
   "metadata": {},
   "outputs": [
    {
     "data": {
      "text/html": [
       "<div>\n",
       "<style scoped>\n",
       "    .dataframe tbody tr th:only-of-type {\n",
       "        vertical-align: middle;\n",
       "    }\n",
       "\n",
       "    .dataframe tbody tr th {\n",
       "        vertical-align: top;\n",
       "    }\n",
       "\n",
       "    .dataframe thead th {\n",
       "        text-align: right;\n",
       "    }\n",
       "</style>\n",
       "<table border=\"1\" class=\"dataframe\">\n",
       "  <thead>\n",
       "    <tr style=\"text-align: right;\">\n",
       "      <th></th>\n",
       "      <th>Price_USD</th>\n",
       "      <th>Transaction_Volume</th>\n",
       "      <th>Transaction_Volume_USD</th>\n",
       "      <th>Hash_Rate</th>\n",
       "      <th>Difficulty</th>\n",
       "      <th>Market_Cap</th>\n",
       "      <th>Transaction_Count</th>\n",
       "      <th>Transaction_Count_Accumulated</th>\n",
       "      <th>Total_Mined</th>\n",
       "      <th>Output_Volume</th>\n",
       "      <th>TRFees_BTC</th>\n",
       "      <th>TRFees_USD</th>\n",
       "      <th>Cost_Per_Transaction</th>\n",
       "      <th>Cost_Percentage_of_TRVolume</th>\n",
       "      <th>Block_Size_Average</th>\n",
       "      <th>Transactions_Per_Block</th>\n",
       "      <th>Confirmation_Time_Minutes</th>\n",
       "      <th>Unique_Addresses_Used</th>\n",
       "      <th>Miners_Revenue</th>\n",
       "    </tr>\n",
       "    <tr>\n",
       "      <th>Date</th>\n",
       "      <th></th>\n",
       "      <th></th>\n",
       "      <th></th>\n",
       "      <th></th>\n",
       "      <th></th>\n",
       "      <th></th>\n",
       "      <th></th>\n",
       "      <th></th>\n",
       "      <th></th>\n",
       "      <th></th>\n",
       "      <th></th>\n",
       "      <th></th>\n",
       "      <th></th>\n",
       "      <th></th>\n",
       "      <th></th>\n",
       "      <th></th>\n",
       "      <th></th>\n",
       "      <th></th>\n",
       "      <th></th>\n",
       "    </tr>\n",
       "  </thead>\n",
       "  <tbody>\n",
       "    <tr>\n",
       "      <th>2023-06-05</th>\n",
       "      <td>27125.02</td>\n",
       "      <td>115427.95767</td>\n",
       "      <td>3.039689e+09</td>\n",
       "      <td>3.514684e+08</td>\n",
       "      <td>5.123434e+13</td>\n",
       "      <td>4.936290e+11</td>\n",
       "      <td>359254.0</td>\n",
       "      <td>848012545.0</td>\n",
       "      <td>19393743.75</td>\n",
       "      <td>1.536384e+06</td>\n",
       "      <td>58.001145</td>\n",
       "      <td>1.522232e+06</td>\n",
       "      <td>67.795193</td>\n",
       "      <td>0.801256</td>\n",
       "      <td>1.597625</td>\n",
       "      <td>2603.289855</td>\n",
       "      <td>8.908333</td>\n",
       "      <td>610475.0</td>\n",
       "      <td>2.435569e+07</td>\n",
       "    </tr>\n",
       "  </tbody>\n",
       "</table>\n",
       "</div>"
      ],
      "text/plain": [
       "            Price_USD  Transaction_Volume  Transaction_Volume_USD   \n",
       "Date                                                                \n",
       "2023-06-05   27125.02        115427.95767            3.039689e+09  \\\n",
       "\n",
       "               Hash_Rate    Difficulty    Market_Cap  Transaction_Count   \n",
       "Date                                                                      \n",
       "2023-06-05  3.514684e+08  5.123434e+13  4.936290e+11           359254.0  \\\n",
       "\n",
       "            Transaction_Count_Accumulated  Total_Mined  Output_Volume   \n",
       "Date                                                                    \n",
       "2023-06-05                    848012545.0  19393743.75   1.536384e+06  \\\n",
       "\n",
       "            TRFees_BTC    TRFees_USD  Cost_Per_Transaction   \n",
       "Date                                                         \n",
       "2023-06-05   58.001145  1.522232e+06             67.795193  \\\n",
       "\n",
       "            Cost_Percentage_of_TRVolume  Block_Size_Average   \n",
       "Date                                                          \n",
       "2023-06-05                     0.801256            1.597625  \\\n",
       "\n",
       "            Transactions_Per_Block  Confirmation_Time_Minutes   \n",
       "Date                                                            \n",
       "2023-06-05             2603.289855                   8.908333  \\\n",
       "\n",
       "            Unique_Addresses_Used  Miners_Revenue  \n",
       "Date                                               \n",
       "2023-06-05               610475.0    2.435569e+07  "
      ]
     },
     "execution_count": 21,
     "metadata": {},
     "output_type": "execute_result"
    }
   ],
   "source": [
    "bitcoin"
   ]
  }
 ],
 "metadata": {
  "kernelspec": {
   "display_name": "Python 3 (ipykernel)",
   "language": "python",
   "name": "python3"
  },
  "orig_nbformat": 4
 },
 "nbformat": 4,
 "nbformat_minor": 2
}
