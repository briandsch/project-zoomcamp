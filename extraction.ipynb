{
 "cells": [
  {
   "cell_type": "code",
   "execution_count": 2,
   "metadata": {},
   "outputs": [],
   "source": [
    "import nasdaqdatalink\n",
    "import pandas as pd\n",
    "import functools as ft"
   ]
  },
  {
   "cell_type": "code",
   "execution_count": 3,
   "metadata": {},
   "outputs": [],
   "source": [
    "start_date = '2022-05-01'"
   ]
  },
  {
   "cell_type": "code",
   "execution_count": 4,
   "metadata": {},
   "outputs": [],
   "source": [
    "bitcoin = nasdaqdatalink.get('BCHAIN/MKPRU', start_date=start_date)\n",
    "bitcoin.columns=[\"Price_USD\"]\n",
    "print(\"MKPRU: Price_USD has been added to the Dataframe.\")"
   ]
  },
  {
   "cell_type": "code",
   "execution_count": 6,
   "metadata": {},
   "outputs": [],
   "source": [
    "merging_columns = {\n",
    "\"ETRAV\": \"Transaction_Volume\",\n",
    "\"ETRVU\": \"Transaction_Volume_USD\",\n",
    "\"HRATE\": \"Hash_Rate\",\n",
    "\"DIFF\": \"Difficulty\",\n",
    "\"MKTCP\": \"Market_Cap\",\n",
    "\"NTRAN\": \"Transaction_Count\",\n",
    "\"NTRAT\": \"Transaction_Count_Accumulated\",\n",
    "\"TOTBC\": \"Total_Mined\",\n",
    "\"TOUTV\": \"Output_Volume\",\n",
    "\"TRFEE\": \"TRFees_BTC\",\n",
    "\"TRFUS\": \"TRFees_USD\",\n",
    "\"CPTRA\": \"Cost_Per_Transaction\",\n",
    "\"CPTRV\": \"Cost_Percentage_of_TRVolume\",\n",
    "\"AVBLS\": \"Block_Size_Average\",\n",
    "\"NTRBL\": \"Transactions_Per_Block\",\n",
    "\"ATRCT\": \"Confirmation_Time_Minutes\",\n",
    "\"NADDU\": \"Unique_Addresses_Used\",\n",
    "\"MIREV\": \"Miners_Revenue\"\n",
    "}"
   ]
  },
  {
   "cell_type": "code",
   "execution_count": 8,
   "metadata": {},
   "outputs": [
    {
     "name": "stdout",
     "output_type": "stream",
     "text": [
      "ETRAV: Transaction_Volume has been added to the Dataframe.\n",
      "ETRVU: Transaction_Volume_USD has been added to the Dataframe.\n",
      "HRATE: Hash_Rate has been added to the Dataframe.\n",
      "DIFF: Difficulty has been added to the Dataframe.\n",
      "MKTCP: Market_Cap has been added to the Dataframe.\n",
      "NTRAN: Transaction_Count has been added to the Dataframe.\n",
      "NTRAT: Transaction_Count_Accumulated has been added to the Dataframe.\n",
      "TOTBC: Total_Mined has been added to the Dataframe.\n",
      "TOUTV: Output_Volume has been added to the Dataframe.\n",
      "TRFEE: TRFees_BTC has been added to the Dataframe.\n",
      "TRFUS: TRFees_USD has been added to the Dataframe.\n",
      "CPTRA: Cost_Per_Transaction has been added to the Dataframe.\n",
      "CPTRV: Cost_Percentage_of_TRVolume has been added to the Dataframe.\n",
      "AVBLS: Block_Size_Average has been added to the Dataframe.\n",
      "NTRBL: Transactions_Per_Block has been added to the Dataframe.\n",
      "ATRCT: Confirmation_Time_Minutes has been added to the Dataframe.\n",
      "NADDU: Unique_Addresses_Used has been added to the Dataframe.\n",
      "MIREV: Miners_Revenue has been added to the Dataframe.\n"
     ]
    }
   ],
   "source": [
    "for code, name in merging_columns.items():\n",
    "    new_column = nasdaqdatalink.get(f'BCHAIN/{code}', start_date=start_date)\n",
    "    new_column.columns=[f\"{name}\"]\n",
    "    bitcoin = bitcoin.merge(new_column, on=\"Date\")\n",
    "    print(f\"{code}: {name} has been added to the Dataframe.\")\n"
   ]
  },
  {
   "cell_type": "code",
   "execution_count": null,
   "metadata": {},
   "outputs": [],
   "source": [
    "bitcoin"
   ]
  }
 ],
 "metadata": {
  "kernelspec": {
   "display_name": "Python 3 (ipykernel)",
   "language": "python",
   "name": "python3"
  },
  "language_info": {
   "codemirror_mode": {
    "name": "ipython",
    "version": 3
   },
   "file_extension": ".py",
   "mimetype": "text/x-python",
   "name": "python",
   "nbconvert_exporter": "python",
   "pygments_lexer": "ipython3",
   "version": "3.10.6"
  },
  "orig_nbformat": 4
 },
 "nbformat": 4,
 "nbformat_minor": 2
}
